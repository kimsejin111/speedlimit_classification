{
  "nbformat": 4,
  "nbformat_minor": 0,
  "metadata": {
    "colab": {
      "name": "speedlimits.ipynb",
      "private_outputs": true,
      "provenance": [],
      "authorship_tag": "ABX9TyOF6hiTUe9uZWwpUSzS9S8Z",
      "include_colab_link": true
    },
    "kernelspec": {
      "name": "python3",
      "display_name": "Python 3"
    },
    "language_info": {
      "name": "python"
    },
    "accelerator": "GPU"
  },
  "cells": [
    {
      "cell_type": "markdown",
      "metadata": {
        "id": "view-in-github",
        "colab_type": "text"
      },
      "source": [
        "<a href=\"https://colab.research.google.com/github/kimsejin111/speedlimit_classification/blob/main/speedlimits.ipynb\" target=\"_parent\"><img src=\"https://colab.research.google.com/assets/colab-badge.svg\" alt=\"Open In Colab\"/></a>"
      ]
    },
    {
      "cell_type": "code",
      "execution_count": null,
      "metadata": {
        "id": "h0MJryXcE0rx"
      },
      "outputs": [],
      "source": [
        "from google.colab import drive\n",
        "drive.mount('/content/gdrive')"
      ]
    },
    {
      "cell_type": "code",
      "source": [
        "import matplotlib.pyplot as plt\n",
        "import numpy as np\n",
        "import tensorflow as tf\n",
        "from tensorflow import keras\n",
        "from tensorflow.keras import layers\n",
        "from tensorflow.keras.models import Sequential\n",
        "import PIL\n",
        "from PIL import Image\n",
        "import time\n",
        "import os\n",
        "os.environ['TF_CPP_MIN_LOG_LEVEL']='3'\n",
        "import pathlib"
      ],
      "metadata": {
        "id": "Nt3JhKd7HZWa"
      },
      "execution_count": null,
      "outputs": []
    },
    {
      "cell_type": "code",
      "source": [
        "data_dir='/content/gdrive/MyDrive/data'"
      ],
      "metadata": {
        "id": "f6ye8TkcHGy_"
      },
      "execution_count": null,
      "outputs": []
    },
    {
      "cell_type": "code",
      "source": [
        "data_dir=pathlib.Path(data_dir)\n",
        "\n",
        "batch_size=32\n",
        "image_height=180\n",
        "image_width=180\n",
        "\n",
        "d_image_count = len(list(data_dir.glob('*/*.png')))\n",
        "print(d_image_count)\n"
      ],
      "metadata": {
        "id": "34cci34UIULS"
      },
      "execution_count": null,
      "outputs": []
    },
    {
      "cell_type": "code",
      "source": [
        "train_ds=tf.keras.preprocessing.image_dataset_from_directory(\n",
        "    data_dir,\n",
        "    validation_split=0.2, # 왜 0.2로 하는거지?\n",
        "    subset=\"training\",\n",
        "    seed=123,   # seed는 무얼 의미하는 거지?\n",
        "    image_size=(image_height, image_width),\n",
        "    batch_size=batch_size\n",
        ")\n",
        "val_ds=tf.keras.preprocessing.image_dataset_from_directory(\n",
        "    data_dir,\n",
        "    validation_split=0.2,\n",
        "    subset=\"validation\",\n",
        "    seed=123,\n",
        "    image_size=(image_height, image_width),\n",
        "    batch_size=batch_size\n",
        ")"
      ],
      "metadata": {
        "id": "kiBjpgvJJGId"
      },
      "execution_count": null,
      "outputs": []
    },
    {
      "cell_type": "code",
      "source": [
        "class_names = train_ds.class_names\n",
        "plt.figure(figsize=(10,10))\n",
        "for images, labels in train_ds.take(1): #take 함수는 무슨 함수일까\n",
        "    for i in range(9):\n",
        "        ax=plt.subplot(3,3,i+1)\n",
        "        plt.imshow(images[i].numpy().astype(\"uint8\")) #numpy,imshow 는 무슨 함수일까\n",
        "        plt.title(class_names[labels[i]])\n",
        "        plt.axis(\"off\")\n",
        "plt.show()"
      ],
      "metadata": {
        "id": "UzACWku5aR0L"
      },
      "execution_count": null,
      "outputs": []
    }
  ]
}